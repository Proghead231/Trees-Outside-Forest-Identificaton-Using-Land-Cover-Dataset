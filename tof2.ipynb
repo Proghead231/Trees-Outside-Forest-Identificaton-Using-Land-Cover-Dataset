{
 "cells": [
  {
   "cell_type": "code",
   "execution_count": 1,
   "metadata": {},
   "outputs": [],
   "source": [
    "import ee\n",
    "import geemap\n",
    "ee.Initialize()\n",
    "Map = geemap.Map()"
   ]
  },
  {
   "cell_type": "code",
   "execution_count": 2,
   "metadata": {},
   "outputs": [],
   "source": [
    "roi = ee.Geometry.Polygon([[[85.5514759136554, 27.606319858773542], [85.54812851680481, 27.606814241656696],[85.54658356441223, 27.606053651681712], [85.54458800090515, 27.60747975355365],[85.5417341305133, 27.6071565054229], [85.53602638972961, 27.607574826351808],[85.53164902461731, 27.604608516183408], [85.52461090816223, 27.59989267830524],[85.52083435786926, 27.595633037415077], [85.51439705623352, 27.59160143910352],[85.51250878108704, 27.587113259052792], [85.51688614619934, 27.580799067650698],[85.53018990291321, 27.571098848697872], [85.53345146907532, 27.56934891397023],[85.53911629451477, 27.570680388584304], [85.54323616756164, 27.57018584275639],[85.54615441096985, 27.571441223967476], [85.55173340572082, 27.577299479711662],[85.55516663325989, 27.583461722809357], [85.55645409358704, 27.586923077874847],[85.55645409358704, 27.591221091986892], [85.55808487666809, 27.594301865688895],[85.55911484492981, 27.600272995334457], [85.55937233699524, 27.601680156867083],[85.56040230525696, 27.60426624445798],  [85.56070271266663, 27.60685227101685],[85.5598873211261, 27.60837343459905],  [85.5573124004718, 27.607726942657226],[85.55464092029297, 27.60593005531206], [85.55328908847623, 27.605834992139737]]])"
   ]
  },
  {
   "cell_type": "code",
   "execution_count": 7,
   "metadata": {},
   "outputs": [],
   "source": [
    "def tof( roi, npixels_to_expand_other_classes=3, npixels_to_expand_tof=5, npixels_to_expand_forest=8, scale=10, niterations=1):\n",
    "    lc = ee.ImageCollection('ESA/WorldCover/v200').first().clip(roi)\n",
    "    lc_reclassified = lc.remap([10], to= [1], defaultValue = 0)\n",
    "    tree_cover_mask = lc_reclassified.eq(1)\n",
    "    tree_cover = lc_reclassified.updateMask(tree_cover_mask)\n",
    "    other_classes_mask = lc_reclassified.eq(0)\n",
    "    other_classes = lc_reclassified.updateMask(other_classes_mask)\n",
    "\n",
    "    def expand(image_to_expand, npixels_to_expand, expand_value, background_values, roi, scale):\n",
    "        if roi is not None:\n",
    "            vectors = image_to_expand.select(0).int8().reduceToVectors(geometry = roi, scale = scale, maxPixels = 10e35)\n",
    "        else:\n",
    "            vectors = image_to_expand.select(0).int8().reduceToVectors(geometry = image_to_expand.geometry(), scale = scale, maxPixels = 10e35)\n",
    "        \n",
    "        \n",
    "        def buffer(feature):\n",
    "            feature = ee.Feature(feature)\n",
    "            buffer = feature.buffer(npixels_to_expand*scale, 0.2)\n",
    "            return buffer\n",
    "        vectors_buffer = vectors.filter(ee.Filter.eq('label', expand_value)).map(lambda feature: buffer(feature))\n",
    "\n",
    "        vectors_merged = ee.FeatureCollection([])\n",
    "        for background_value in background_values:\n",
    "            vectors_merged = vectors_merged.merge(vectors.filter(ee.Filter.eq('label', background_value)))\n",
    "        \n",
    "        final_merge = vectors_buffer.merge(vectors_merged)\n",
    "        if roi is not None:\n",
    "            expanded_image = final_merge.reduceToImage(['label'], ee.Reducer.first()).clip(roi)\n",
    "        else:\n",
    "            expanded_image = final_merge.reduceToImage(['label'], ee.Reducer.first()).clip(image_to_expand.geometry())\n",
    "\n",
    "        return expanded_image\n",
    "    \n",
    "    def id_tof():\n",
    "        expanded_other_classes = expand(\n",
    "            image_to_expand = other_classes_mask, \n",
    "            expand_value = 1, \n",
    "            background_values = [0], \n",
    "            npixels_to_expand = npixels_to_expand_other_classes, \n",
    "            scale = 10, \n",
    "            roi = roi\n",
    "            )\n",
    "\n",
    "        add_expanded_other_classes_lc_reclassified = lc_reclassified.add(expanded_other_classes.remap([0,1], [1, 0]))\n",
    "\n",
    "        expanded_tof = expand(\n",
    "            image_to_expand = add_expanded_other_classes_lc_reclassified, \n",
    "            expand_value = 1, \n",
    "            background_values = [0, 2], \n",
    "            npixels_to_expand = npixels_to_expand_tof, \n",
    "            scale = 10, \n",
    "            roi = roi\n",
    "            )\n",
    "\n",
    "        expanded_forest = expand(\n",
    "            image_to_expand = expanded_tof, \n",
    "            expand_value = 2, \n",
    "            background_values = [0, 1], \n",
    "            npixels_to_expand = npixels_to_expand_forest, \n",
    "            scale = 10, \n",
    "            roi = roi\n",
    "            )\n",
    "        \n",
    "        for i in range(niterations - 1):\n",
    "            expanded_other_classes = expand(\n",
    "                image_to_expand = expanded_other_classes, \n",
    "                expand_value = 1, \n",
    "                background_values = [0], \n",
    "                npixels_to_expand = npixels_to_expand_other_classes, \n",
    "                scale = 10, \n",
    "                roi = roi\n",
    "                )\n",
    "\n",
    "            add_expanded_other_classes_lc_reclassified = lc_reclassified.add(expanded_other_classes.remap([0,1], [1, 0]))\n",
    "\n",
    "            expanded_tof = expand(\n",
    "                image_to_expand = add_expanded_other_classes_lc_reclassified, \n",
    "                expand_value = 1, \n",
    "                background_values = [0, 2], \n",
    "                npixels_to_expand = npixels_to_expand_tof, \n",
    "                scale = 10, \n",
    "                roi = roi\n",
    "                )\n",
    "\n",
    "            expanded_forest = expand(\n",
    "                image_to_expand = expanded_tof, \n",
    "                expand_value = 2, \n",
    "                background_values = [0, 1], \n",
    "                npixels_to_expand = npixels_to_expand_forest, \n",
    "                scale = 10, \n",
    "                roi = roi\n",
    "                )\n",
    "\n",
    "        forest_vectors = tree_cover.select(0).int8().reduceToVectors(geometry = roi, scale = 10, maxPixels = 10e35)\n",
    "        tof_and_forest = expanded_forest.clip(forest_vectors)\n",
    "        \n",
    "        return tof_and_forest\n",
    "    return id_tof()"
   ]
  },
  {
   "attachments": {},
   "cell_type": "markdown",
   "metadata": {},
   "source": [
    "<h4>Adjust the Parameters to Properly Identify Forest and Trees Outside Forest</h4>"
   ]
  },
  {
   "cell_type": "code",
   "execution_count": 4,
   "metadata": {},
   "outputs": [],
   "source": [
    "#Using all the default parameters\n",
    "tof_and_forest = tof(roi = roi)"
   ]
  },
  {
   "cell_type": "code",
   "execution_count": 5,
   "metadata": {},
   "outputs": [],
   "source": [
    "Map = geemap.Map()\n",
    "Map.add_basemap('SATELLITE')\n",
    "Map.addLayer(tof_and_forest, {'min':1, 'max':2, 'palette':['blue', 'green']}, 'tof')"
   ]
  },
  {
   "cell_type": "code",
   "execution_count": 6,
   "metadata": {},
   "outputs": [
    {
     "data": {
      "application/vnd.jupyter.widget-view+json": {
       "model_id": "352ab956c5b24730bd5b5ddf2ae0e972",
       "version_major": 2,
       "version_minor": 0
      },
      "text/plain": [
       "Map(center=[20, 0], controls=(WidgetControl(options=['position', 'transparent_bg'], widget=HBox(children=(Togg…"
      ]
     },
     "execution_count": 6,
     "metadata": {},
     "output_type": "execute_result"
    }
   ],
   "source": [
    "Map.center_object(roi)\n",
    "Map"
   ]
  },
  {
   "cell_type": "code",
   "execution_count": null,
   "metadata": {},
   "outputs": [],
   "source": []
  }
 ],
 "metadata": {
  "kernelspec": {
   "display_name": "gee",
   "language": "python",
   "name": "python3"
  },
  "language_info": {
   "codemirror_mode": {
    "name": "ipython",
    "version": 3
   },
   "file_extension": ".py",
   "mimetype": "text/x-python",
   "name": "python",
   "nbconvert_exporter": "python",
   "pygments_lexer": "ipython3",
   "version": "3.11.3"
  },
  "orig_nbformat": 4
 },
 "nbformat": 4,
 "nbformat_minor": 2
}
